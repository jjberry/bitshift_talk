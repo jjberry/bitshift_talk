{
 "metadata": {
  "name": "",
  "signature": "sha256:d7e5bd724c799c09e690928c1321b47fd3c1e33df4602ac386570d5972c6c18b"
 },
 "nbformat": 3,
 "nbformat_minor": 0,
 "worksheets": [
  {
   "cells": [
    {
     "cell_type": "heading",
     "level": 1,
     "metadata": {},
     "source": [
      "XOR example"
     ]
    },
    {
     "cell_type": "markdown",
     "metadata": {},
     "source": [
      "Jeff Berry (jberry@insidesales.com) "
     ]
    },
    {
     "cell_type": "code",
     "collapsed": false,
     "input": [
      "import theano\n",
      "from pylearn2.models import mlp\n",
      "from pylearn2.training_algorithms import sgd\n",
      "from pylearn2.termination_criteria import EpochCounter\n",
      "from pylearn2.datasets.dense_design_matrix import DenseDesignMatrix\n",
      "import numpy as np\n",
      "from random import randint\n",
      "import matplotlib.pyplot as plt\n",
      "%matplotlib inline"
     ],
     "language": "python",
     "metadata": {},
     "outputs": [
      {
       "output_type": "stream",
       "stream": "stderr",
       "text": [
        "Using gpu device 0: GeForce GTX 780 Ti\n"
       ]
      }
     ],
     "prompt_number": 1
    },
    {
     "cell_type": "markdown",
     "metadata": {},
     "source": [
      "The XOR (exclusive or) problem is a classic example of non-linearly separable classes. Graphically it looks like this:"
     ]
    },
    {
     "cell_type": "code",
     "collapsed": false,
     "input": [
      "plt.plot([0, 1], [0, 1], 'bo')\n",
      "plt.plot([0, 1], [1, 0], 'rx')\n",
      "plt.xlabel('x1')\n",
      "plt.ylabel('x2')\n",
      "plt.xlim(-0.1, 1.1)\n",
      "plt.ylim(-0.1, 1.1)\n",
      "plt.title('XOR problem')\n",
      "plt.show()"
     ],
     "language": "python",
     "metadata": {},
     "outputs": [
      {
       "metadata": {},
       "output_type": "display_data",
       "png": "[encoded data removed]",
       "text": [
        "<matplotlib.figure.Figure at 0x9c03a50>"
       ]
      }
     ],
     "prompt_number": 2
    },
    {
     "cell_type": "markdown",
     "metadata": {},
     "source": [
      "No matter how we draw a separating line, we can't correctly separate the two classes."
     ]
    },
    {
     "cell_type": "markdown",
     "metadata": {},
     "source": [
      "First we need to generate some training examples. "
     ]
    },
    {
     "cell_type": "code",
     "collapsed": false,
     "input": [
      "class XOR(DenseDesignMatrix):\n",
      "    def __init__(self):\n",
      "        self.class_names = ['0', '1']\n",
      "        X = [[randint(0, 1), randint(0, 1)] for _ in range(1000)]\n",
      "        y = []\n",
      "        for a, b in X:\n",
      "            if a + b == 1:\n",
      "                y.append([0, 1])\n",
      "            else:\n",
      "                y.append([1, 0])\n",
      "        X = np.array(X).astype(np.float32)\n",
      "        y = np.array(y).astype(np.float32)\n",
      "        super(XOR, self).__init__(X=X, y=y)"
     ],
     "language": "python",
     "metadata": {},
     "outputs": [],
     "prompt_number": 3
    }
   ],
   "metadata": {}
  }
 ]
}