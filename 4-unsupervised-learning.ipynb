{
 "metadata": {
  "name": "",
  "signature": "sha256:250ed5e4ef727c26e2694e5749e8f501c0a542d303fb5d446460f48970ce2c93"
 },
 "nbformat": 3,
 "nbformat_minor": 0,
 "worksheets": [
  {
   "cells": [
    {
     "cell_type": "heading",
     "level": 1,
     "metadata": {},
     "source": [
      "Unsupervised Learning with K-means"
     ]
    },
    {
     "cell_type": "markdown",
     "metadata": {},
     "source": [
      "With some problems, we know how many different categories exist in the dataset, but we don't have pre-labeled training data. In this kind of situation, we can use an unsupervised learning algorithm to divide the data into natural groups. The caveat with this type of algorithm is that there is no gaurantee that the algorithm will learn the groupings that correspond to what we think are the right categories. \n",
      "\n",
      "The most common unsupervised clustering algorithm is called K-means. Let's first generate some data."
     ]
    },
    {
     "cell_type": "code",
     "collapsed": false,
     "input": [
      "import numpy as np\n",
      "X = np.random.uniform(0, 1, (100, 2))\n",
      "\n",
      "import matplotlib.pyplot as plt\n",
      "%matplotlib inline\n",
      "fig = plt.figure(figsize=(6,6))\n",
      "plt.plot(X[:,0], X[:,1], 'ko')\n",
      "plt.show()"
     ],
     "language": "python",
     "metadata": {},
     "outputs": [
      {
       "metadata": {},
       "output_type": "display_data",
       "png": "[encoded data removed]",
       "text": [
        "<matplotlib.figure.Figure at 0x3ab6750>"
       ]
      }
     ],
     "prompt_number": 3
    },
    {
     "cell_type": "markdown",
     "metadata": {},
     "source": [
      "The K-means algorithm works by randomly choosing $k$ cluster centers. The distance between each data point and each center is measured, and each data point is assigned to the closest center. The centers are then recalculated from the data points that are assigned to it, and the process is repeated until the centers don't change. \n",
      "\n",
      "Let's implement K-means and run it with $k=7$."
     ]
    },
    {
     "cell_type": "code",
     "collapsed": false,
     "input": [
      "import random\n",
      "# this function assigns each data point to the nearest center\n",
      "def cluster_points(X, centers):\n",
      "    clusters = {}\n",
      "    for x in X:\n",
      "        bestcenter = min([(i[0], np.linalg.norm(x - centers[i[0]])) for i in enumerate(centers)], key=lambda t:t[1])[0]\n",
      "        try:\n",
      "            clusters[bestcenter].append(x)\n",
      "        except KeyError:\n",
      "            clusters[bestcenter] = [x]\n",
      "        return clusters\n",
      "\n",
      "# this function recalculates the centers\n",
      "def recalculate_centers(centers, clusters):\n",
      "    newcenters = []\n",
      "    keys = sorted(clusters.keys())\n",
      "    for k in keys:\n",
      "        newcenters.append(np.mean(clusters[k], axis=0))\n",
      "    return newcenters\n",
      "\n",
      "# define stopping point\n",
      "def has_converged(centers, oldcenters):\n",
      "    return (set([tuple(a) for a in centers]) == set([tuple(a) for a in oldcenters]))\n",
      "\n",
      "# wrap it together\n",
      "def find_centers(X, k):\n",
      "    # initialize k centers\n",
      "    oldcenters = random.sample(X, k)\n",
      "    centers = random.sample(X, k)\n",
      "    while not has_converged(centers, oldcenters):\n",
      "        oldcenters = centers\n",
      "        clusters = cluster_points(X, centers)\n",
      "        centers = recalculate_centers(centers, clusters)\n",
      "    return (centers, clusters)\n",
      "\n",
      "centers, clusters = find_centers(X, 7)\n",
      "print clusters"
     ],
     "language": "python",
     "metadata": {},
     "outputs": [
      {
       "output_type": "stream",
       "stream": "stdout",
       "text": [
        "{0: [array([ 0.67598545,  0.09849045])]}\n"
       ]
      }
     ],
     "prompt_number": 10
    },
    {
     "cell_type": "code",
     "collapsed": false,
     "input": [],
     "language": "python",
     "metadata": {},
     "outputs": []
    }
   ],
   "metadata": {}
  }
 ]
}